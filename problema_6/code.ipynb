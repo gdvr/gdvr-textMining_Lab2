{
 "cells": [
  {
   "cell_type": "markdown",
   "id": "d6864153-17cd-4819-9e7a-f9b57b56b5af",
   "metadata": {
    "tags": []
   },
   "source": [
    "# kernel Laplaceano y como este enfoque se diferencia de usar el algoritmo de Canny para la deteccion de bordes."
   ]
  },
  {
   "attachments": {
    "b8bae057-8007-439e-96eb-7caec2e3af19.png": {
     "image/png": "[encoded data removed]"
    }
   },
   "cell_type": "markdown",
   "id": "c1e2bff2-bd1e-497a-9949-8751af537742",
   "metadata": {
    "tags": []
   },
   "source": [
    "## Kernel Laplaciano\n",
    "\n",
    "El operador Laplaciano se basa en la segunda derivada de la función de intensidad de la imagen, y su principal característica es que realza áreas de la imagen donde la intensidad cambia rápidamente, es decir, donde hay bordes. Un aspecto importante es que el Laplaciano es sensible a los cambios de intensidad, sin importar la dirección en que ocurren. <br>\n",
    "\n",
    "El kernel Laplaciano básico en 2D tiene la siguiente forma:<br>\n",
    "![image.png](attachment:b8bae057-8007-439e-96eb-7caec2e3af19.png)\n",
    "\n",
    "Ventajas\n",
    "- Es muy efectivo para resaltar regiones de alto contraste.\n",
    "- Detecta bordes en todas las direcciones simultáneamente.\n",
    "\n",
    "Desventajas\n",
    "- No proporciona información sobre la dirección del borde, solo sobre su presencia.\n",
    "- Sensible al ruido, por lo que se suele utilizar junto con suavizado previo."
   ]
  },
  {
   "cell_type": "markdown",
   "id": "0dc3f80c-9878-4008-a207-a3727ac03e2c",
   "metadata": {
    "tags": []
   },
   "source": [
    "## Algoritmo de Canny\n",
    "Es un método mucho más sofisticado para la detección de bordes\n",
    "\n",
    "### Etapas del Algoritmo de Canny\n",
    "- <b>Suavizado (Gaussian Blur):</b> Se aplica un filtro Gaussiano para suavizar la imagen y reducir el ruido\n",
    "- <b>Cálculo del Gradiente:</b> Se utilizan operadores de Sobel para calcular la primera derivada de la imagen en las direcciones x y 𝑦. Esto permite determinar tanto la magnitud como la dirección del gradiente.\n",
    "- <b>Supresión No-Máxima:</b> Elimina los píxeles que no son máximos locales a lo largo de la dirección del gradiente, dejando solo los picos más altos que representan bordes.\n",
    "- <b>Umbralización con Histeresis:</b> . Los píxeles con gradientes más altos que el umbral superior son considerados bordes, mientras que los que están por debajo del umbral inferior son descartados. Los píxeles intermedios son considerados bordes solo si están conectados a píxeles de borde fuerte.\n",
    "\n",
    "Ventajas\n",
    "- El suavizado inicial reduce la sensibilidad al ruido\n",
    "- La combinación de supresión no-máxima y umbralización con histéresis permite una detección de bordes muy precisa.\n",
    "- Proporciona información sobre la dirección del borde\n",
    "\n",
    "Desventajas\n",
    "- Es más complejo y requiere más pasos.\n",
    "- Los resultados dependen de la correcta elección de los umbrales, lo cual puede requerir ajuste manual."
   ]
  },
  {
   "cell_type": "markdown",
   "id": "c2ccde0f-22d8-4041-93f1-460c43474b1e",
   "metadata": {},
   "source": [
    "## Comparación entre el Kernel Laplaciano y el Algoritmo de Canny\n",
    "\n",
    "|Funcion|Laplaciano| Canny \n",
    "| ------------- |:-------------:|:-------------:|\n",
    "|Detección de Bordes|Detecta bordes en todas las direcciones simultáneamente pero no da información sobre la dirección del borde. | Detecta bordes de manera más precisa y robusta, proporcionando tanto la magnitud como la dirección del borde.|\n",
    "|Aplicación en Imágenes|  Es común en aplicaciones simples de realce de borde debido a que detecta bordes y se puede tolerar cierta cantidad de ruido|  Se tiene la restriccion de tener  precisión extremadamente crítica, como en la segmentación de imágenes o la detección de contornos en imágenes médicas.|\n",
    "|Robustez al Ruido| Es más propenso a detectar falsos bordes en presencia de ruido, por lo que se suele combinar con suavizado previo| Incluye un paso de suavizado y utiliza umbrales para reducir significativamente la detección de falsos bordes, siendo mucho más robusto en entornos ruidosos|"
   ]
  },
  {
   "cell_type": "code",
   "execution_count": null,
   "id": "e8904b85-4175-43e9-b902-f7ba73345f22",
   "metadata": {},
   "outputs": [],
   "source": []
  }
 ],
 "metadata": {
  "kernelspec": {
   "display_name": "Python 3 (ipykernel)",
   "language": "python",
   "name": "python3"
  },
  "language_info": {
   "codemirror_mode": {
    "name": "ipython",
    "version": 3
   },
   "file_extension": ".py",
   "mimetype": "text/x-python",
   "name": "python",
   "nbconvert_exporter": "python",
   "pygments_lexer": "ipython3",
   "version": "3.11.5"
  }
 },
 "nbformat": 4,
 "nbformat_minor": 5
}
